{
 "cells": [
  {
   "cell_type": "markdown",
   "id": "549b688c-903d-4901-86e3-4b7416c07961",
   "metadata": {},
   "source": [
    "Spring 2025: CS5720 – NN &DL\n",
    "In-Class Programming Assignment-3\n",
    "Name: Loka Pavani Doddapaneni\n",
    "Student Id: 700757157"
   ]
  },
  {
   "cell_type": "markdown",
   "id": "83628300-fd80-4b04-a4f3-3c1b69e5a595",
   "metadata": {},
   "source": [
    "1. Data Manipulation"
   ]
  },
  {
   "cell_type": "code",
   "execution_count": 143,
   "id": "0de4392f-b9c2-4f25-a565-1a5e812492ec",
   "metadata": {},
   "outputs": [
    {
     "data": {
      "text/html": [
       "<div>\n",
       "<style scoped>\n",
       "    .dataframe tbody tr th:only-of-type {\n",
       "        vertical-align: middle;\n",
       "    }\n",
       "\n",
       "    .dataframe tbody tr th {\n",
       "        vertical-align: top;\n",
       "    }\n",
       "\n",
       "    .dataframe thead th {\n",
       "        text-align: right;\n",
       "    }\n",
       "</style>\n",
       "<table border=\"1\" class=\"dataframe\">\n",
       "  <thead>\n",
       "    <tr style=\"text-align: right;\">\n",
       "      <th></th>\n",
       "      <th>Duration</th>\n",
       "      <th>Pulse</th>\n",
       "      <th>Maxpulse</th>\n",
       "      <th>Calories</th>\n",
       "    </tr>\n",
       "  </thead>\n",
       "  <tbody>\n",
       "    <tr>\n",
       "      <th>0</th>\n",
       "      <td>60</td>\n",
       "      <td>110</td>\n",
       "      <td>130</td>\n",
       "      <td>409.1</td>\n",
       "    </tr>\n",
       "    <tr>\n",
       "      <th>1</th>\n",
       "      <td>60</td>\n",
       "      <td>117</td>\n",
       "      <td>145</td>\n",
       "      <td>479.0</td>\n",
       "    </tr>\n",
       "    <tr>\n",
       "      <th>2</th>\n",
       "      <td>60</td>\n",
       "      <td>103</td>\n",
       "      <td>135</td>\n",
       "      <td>340.0</td>\n",
       "    </tr>\n",
       "    <tr>\n",
       "      <th>3</th>\n",
       "      <td>45</td>\n",
       "      <td>109</td>\n",
       "      <td>175</td>\n",
       "      <td>282.4</td>\n",
       "    </tr>\n",
       "    <tr>\n",
       "      <th>4</th>\n",
       "      <td>45</td>\n",
       "      <td>117</td>\n",
       "      <td>148</td>\n",
       "      <td>406.0</td>\n",
       "    </tr>\n",
       "  </tbody>\n",
       "</table>\n",
       "</div>"
      ],
      "text/plain": [
       "   Duration  Pulse  Maxpulse  Calories\n",
       "0        60    110       130     409.1\n",
       "1        60    117       145     479.0\n",
       "2        60    103       135     340.0\n",
       "3        45    109       175     282.4\n",
       "4        45    117       148     406.0"
      ]
     },
     "execution_count": 143,
     "metadata": {},
     "output_type": "execute_result"
    }
   ],
   "source": [
    "import pandas as pd\n",
    "\n",
    "# Load the \"data.csv\" file\n",
    "df = pd.read_csv('C:/Users/Loka Pavani/Downloads/data.csv')\n",
    "df.head()\n"
   ]
  },
  {
   "cell_type": "code",
   "execution_count": 144,
   "id": "4105b39a-3232-47fe-87ce-64137537b029",
   "metadata": {},
   "outputs": [
    {
     "name": "stdout",
     "output_type": "stream",
     "text": [
      "Basic Statistical Description of the Dataset:\n",
      "         Duration       Pulse    Maxpulse     Calories\n",
      "count  169.000000  169.000000  169.000000   164.000000\n",
      "mean    63.846154  107.461538  134.047337   375.790244\n",
      "std     42.299949   14.510259   16.450434   266.379919\n",
      "min     15.000000   80.000000  100.000000    50.300000\n",
      "25%     45.000000  100.000000  124.000000   250.925000\n",
      "50%     60.000000  105.000000  131.000000   318.600000\n",
      "75%     60.000000  111.000000  141.000000   387.600000\n",
      "max    300.000000  159.000000  184.000000  1860.400000\n",
      "\n",
      "Checking for Null Values in Each Column:\n",
      "Duration    0\n",
      "Pulse       0\n",
      "Maxpulse    0\n",
      "Calories    5\n",
      "dtype: int64\n",
      "\n",
      "Null Values After Replacing with Mean:\n",
      "Duration    0\n",
      "Pulse       0\n",
      "Maxpulse    0\n",
      "Calories    0\n",
      "dtype: int64\n"
     ]
    }
   ],
   "source": [
    "# Basic Statistical Description\n",
    "print(\"Basic Statistical Description of the Dataset:\")\n",
    "print(df.describe())\n",
    "# Check for Null Values\n",
    "print(\"\\nChecking for Null Values in Each Column:\")\n",
    "print(df.isnull().sum())\n",
    "# Replace Null Values with the Mean\n",
    "df_filled = df.fillna(df.mean(numeric_only=True))\n",
    "print(\"\\nNull Values After Replacing with Mean:\")\n",
    "print(df_filled.isnull().sum())\n",
    "\n"
   ]
  },
  {
   "cell_type": "code",
   "execution_count": 145,
   "id": "6ab48239-8750-432e-84fd-319faa3b9437",
   "metadata": {},
   "outputs": [
    {
     "name": "stdout",
     "output_type": "stream",
     "text": [
      "\n",
      "Modified DataFrame (without Maxpulse):\n",
      "      Duration  Pulse  Calories\n",
      "0          60    110     409.1\n",
      "1          60    117     479.0\n",
      "2          60    103     340.0\n",
      "3          45    109     282.4\n",
      "4          45    117     406.0\n",
      "..        ...    ...       ...\n",
      "164        60    105     290.8\n",
      "165        60    110     300.0\n",
      "166        60    115     310.2\n",
      "167        75    120     320.4\n",
      "168        75    125     330.4\n",
      "\n",
      "[169 rows x 3 columns]\n",
      "\n",
      "Updated df after deleting Maxpulse:\n",
      "      Duration  Pulse  Calories\n",
      "0          60    110     409.1\n",
      "1          60    117     479.0\n",
      "2          60    103     340.0\n",
      "3          45    109     282.4\n",
      "4          45    117     406.0\n",
      "..        ...    ...       ...\n",
      "164        60    105     290.8\n",
      "165        60    110     300.0\n",
      "166        60    115     310.2\n",
      "167        75    120     320.4\n",
      "168        75    125     330.4\n",
      "\n",
      "[169 rows x 3 columns]\n",
      "   Duration  Pulse  Maxpulse  Calories\n",
      "0        60    110       130       409\n",
      "1        60    117       145       479\n",
      "2        60    103       135       340\n",
      "3        45    109       175       476\n",
      "4        45    117       148       406\n",
      "5        90     95       160       750\n",
      "6        30     85       140       476\n"
     ]
    }
   ],
   "source": [
    "# Create df_modified without 'Maxpulse' column \n",
    "df_modified = df.drop(columns=['Maxpulse'])\n",
    "print(\"\\nModified DataFrame (without Maxpulse):\\n\", df_modified)\n",
    "\n",
    "# Delete 'Maxpulse' column from main df \n",
    "df.drop(columns=['Maxpulse'], inplace=True)\n",
    "print(\"\\nUpdated df after deleting Maxpulse:\\n\", df)\n",
    "df = pd.DataFrame(data)\n",
    "\n",
    "# Convert 'Calories' to integer\n",
    "df.replace([float('inf'), float('-inf')], float('nan'), inplace=True)\n",
    "df['Calories'] = df['Calories'].fillna(df['Calories'].mean())  \n",
    "df['Calories'] = df['Calories'].astype(int)\n",
    "\n",
    "print(df)"
   ]
  },
  {
   "cell_type": "code",
   "execution_count": 146,
   "id": "1b608a80-857e-4d70-888f-8739401d0344",
   "metadata": {},
   "outputs": [
    {
     "data": {
      "image/png": "[encoded data removed]",
      "text/plain": [
       "<Figure size 640x480 with 1 Axes>"
      ]
     },
     "metadata": {},
     "output_type": "display_data"
    }
   ],
   "source": [
    "import matplotlib.pyplot as plt\n",
    "# Create the scatter plot\n",
    "df.plot(kind='scatter', x='Duration', y='Calories', color='blue', title='Duration vs Calories')\n",
    "\n",
    "# Add labels and show the plot\n",
    "plt.xlabel('Duration (minutes)')\n",
    "plt.ylabel('Calories Burned')\n",
    "plt.show()\n"
   ]
  },
  {
   "cell_type": "markdown",
   "id": "65c8faed-8a51-40ec-802e-7c550c9fbdee",
   "metadata": {},
   "source": [
    "2. Linear Regression"
   ]
  },
  {
   "cell_type": "code",
   "execution_count": 148,
   "id": "c3c945b9-adc5-48f7-a195-f8a0b9f6b588",
   "metadata": {},
   "outputs": [
    {
     "name": "stdout",
     "output_type": "stream",
     "text": [
      "   YearsExperience   Salary\n",
      "0              1.1  39343.0\n",
      "1              1.3  46205.0\n",
      "2              1.5  37731.0\n",
      "3              2.0  43525.0\n",
      "4              2.2  39891.0\n",
      "Training data size: (20, 1), Testing data size: (10, 1)\n"
     ]
    }
   ],
   "source": [
    "# Load the \"Salary_Data.csv\" file\n",
    "df = pd.read_csv('C:/Users/Loka Pavani/Downloads/Salary_Data (2) (1) (1).csv') \n",
    "print(df.head())\n",
    "\n",
    "# Split the data into training (2/3) and testing (1/3) sets\n",
    "X = df.drop('Salary', axis=1)  \n",
    "y = df['Salary'] \n",
    "X_train, X_test, y_train, y_test = train_test_split(X, y, test_size=1/3, random_state=42)\n",
    "print(f\"Training data size: {X_train.shape}, Testing data size: {X_test.shape}\")\n"
   ]
  },
  {
   "cell_type": "code",
   "execution_count": 149,
   "id": "13728cd3-6b46-4b21-89c8-b0a1cf748959",
   "metadata": {},
   "outputs": [
    {
     "name": "stdout",
     "output_type": "stream",
     "text": [
      "Mean Squared Error: 35301898.88713492\n"
     ]
    },
    {
     "data": {
      "image/png": "[encoded data removed]",
      "text/plain": [
       "<Figure size 640x480 with 1 Axes>"
      ]
     },
     "metadata": {},
     "output_type": "display_data"
    }
   ],
   "source": [
    "# Train the model\n",
    "model.fit(X_train, y_train)\n",
    "# Predict the values using the trained model\n",
    "y_pred = model.predict(X_test)\n",
    "\n",
    "# Calculate the Mean Squared Error\n",
    "mse = mean_squared_error(y_test, y_pred)\n",
    "print(f\"Mean Squared Error: {mse}\")\n",
    "\n",
    "# Visualize both the train and test data using scatter plot\n",
    "plt.scatter(X_train, y_train, color='blue', label='Train data')\n",
    "plt.scatter(X_test, y_test, color='green', label='Test data')\n",
    "plt.plot(X_test, y_pred, color='red', label='Linear Regression line')\n",
    "\n",
    "# Add labels and title\n",
    "plt.xlabel('Years of Experience')\n",
    "plt.ylabel('Salary')\n",
    "plt.title('Linear Regression: Train and Test Data')\n",
    "plt.legend()\n",
    "\n",
    "plt.show()\n"
   ]
  },
  {
   "cell_type": "code",
   "execution_count": null,
   "id": "a6bd7607-16f0-443f-bef7-cb3a6a41184d",
   "metadata": {},
   "outputs": [],
   "source": []
  }
 ],
 "metadata": {
  "kernelspec": {
   "display_name": "Python 3 (ipykernel)",
   "language": "python",
   "name": "python3"
  },
  "language_info": {
   "codemirror_mode": {
    "name": "ipython",
    "version": 3
   },
   "file_extension": ".py",
   "mimetype": "text/x-python",
   "name": "python",
   "nbconvert_exporter": "python",
   "pygments_lexer": "ipython3",
   "version": "3.12.4"
  }
 },
 "nbformat": 4,
 "nbformat_minor": 5
}
